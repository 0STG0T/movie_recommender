{
 "cells": [
  {
   "cell_type": "code",
   "execution_count": 45,
   "metadata": {},
   "outputs": [],
   "source": [
    "import pandas as pd\n",
    "import numpy as np\n",
    "import warnings\n",
    "import gc \n",
    "\n",
    "\n",
    "pd.set_option('display.max_columns', 50)\n",
    "warnings.filterwarnings('ignore')"
   ]
  },
  {
   "cell_type": "code",
   "execution_count": 46,
   "metadata": {},
   "outputs": [
    {
     "data": {
      "text/html": [
       "<div>\n",
       "<style scoped>\n",
       "    .dataframe tbody tr th:only-of-type {\n",
       "        vertical-align: middle;\n",
       "    }\n",
       "\n",
       "    .dataframe tbody tr th {\n",
       "        vertical-align: top;\n",
       "    }\n",
       "\n",
       "    .dataframe thead th {\n",
       "        text-align: right;\n",
       "    }\n",
       "</style>\n",
       "<table border=\"1\" class=\"dataframe\">\n",
       "  <thead>\n",
       "    <tr style=\"text-align: right;\">\n",
       "      <th></th>\n",
       "      <th>movieId</th>\n",
       "      <th>title</th>\n",
       "      <th>genres</th>\n",
       "    </tr>\n",
       "  </thead>\n",
       "  <tbody>\n",
       "    <tr>\n",
       "      <th>0</th>\n",
       "      <td>1</td>\n",
       "      <td>Toy Story (1995)</td>\n",
       "      <td>Adventure|Animation|Children|Comedy|Fantasy</td>\n",
       "    </tr>\n",
       "    <tr>\n",
       "      <th>1</th>\n",
       "      <td>2</td>\n",
       "      <td>Jumanji (1995)</td>\n",
       "      <td>Adventure|Children|Fantasy</td>\n",
       "    </tr>\n",
       "  </tbody>\n",
       "</table>\n",
       "</div>"
      ],
      "text/plain": [
       "   movieId             title                                       genres\n",
       "0        1  Toy Story (1995)  Adventure|Animation|Children|Comedy|Fantasy\n",
       "1        2    Jumanji (1995)                   Adventure|Children|Fantasy"
      ]
     },
     "metadata": {},
     "output_type": "display_data"
    },
    {
     "data": {
      "text/html": [
       "<div>\n",
       "<style scoped>\n",
       "    .dataframe tbody tr th:only-of-type {\n",
       "        vertical-align: middle;\n",
       "    }\n",
       "\n",
       "    .dataframe tbody tr th {\n",
       "        vertical-align: top;\n",
       "    }\n",
       "\n",
       "    .dataframe thead th {\n",
       "        text-align: right;\n",
       "    }\n",
       "</style>\n",
       "<table border=\"1\" class=\"dataframe\">\n",
       "  <thead>\n",
       "    <tr style=\"text-align: right;\">\n",
       "      <th></th>\n",
       "      <th>userId</th>\n",
       "      <th>movieId</th>\n",
       "      <th>rating</th>\n",
       "      <th>timestamp</th>\n",
       "    </tr>\n",
       "  </thead>\n",
       "  <tbody>\n",
       "    <tr>\n",
       "      <th>0</th>\n",
       "      <td>1</td>\n",
       "      <td>296</td>\n",
       "      <td>5.0</td>\n",
       "      <td>1147880044</td>\n",
       "    </tr>\n",
       "    <tr>\n",
       "      <th>1</th>\n",
       "      <td>1</td>\n",
       "      <td>306</td>\n",
       "      <td>3.5</td>\n",
       "      <td>1147868817</td>\n",
       "    </tr>\n",
       "  </tbody>\n",
       "</table>\n",
       "</div>"
      ],
      "text/plain": [
       "   userId  movieId  rating   timestamp\n",
       "0       1      296     5.0  1147880044\n",
       "1       1      306     3.5  1147868817"
      ]
     },
     "metadata": {},
     "output_type": "display_data"
    }
   ],
   "source": [
    "# открываем csv-шники\n",
    "movies_df = pd.read_csv('movies.csv')\n",
    "ratings_df = pd.read_csv('ratings.csv')\n",
    "\n",
    "display(movies_df.head(2), ratings_df.head(2))"
   ]
  },
  {
   "cell_type": "code",
   "execution_count": 47,
   "metadata": {},
   "outputs": [
    {
     "data": {
      "text/plain": [
       "(0, 0, 0, 0)"
      ]
     },
     "execution_count": 47,
     "metadata": {},
     "output_type": "execute_result"
    }
   ],
   "source": [
    "# проверка на NaN и дубликаты\n",
    "movies_df.isna().sum().sum(), ratings_df.isna().sum().sum(), movies_df.duplicated().sum().sum(), ratings_df.duplicated().sum().sum()"
   ]
  },
  {
   "cell_type": "code",
   "execution_count": 48,
   "metadata": {},
   "outputs": [
    {
     "data": {
      "text/html": [
       "<div>\n",
       "<style scoped>\n",
       "    .dataframe tbody tr th:only-of-type {\n",
       "        vertical-align: middle;\n",
       "    }\n",
       "\n",
       "    .dataframe tbody tr th {\n",
       "        vertical-align: top;\n",
       "    }\n",
       "\n",
       "    .dataframe thead th {\n",
       "        text-align: right;\n",
       "    }\n",
       "</style>\n",
       "<table border=\"1\" class=\"dataframe\">\n",
       "  <thead>\n",
       "    <tr style=\"text-align: right;\">\n",
       "      <th></th>\n",
       "      <th>userId</th>\n",
       "      <th>movieId</th>\n",
       "      <th>rating</th>\n",
       "      <th>year</th>\n",
       "      <th>month</th>\n",
       "      <th>day</th>\n",
       "      <th>hour</th>\n",
       "      <th>minute</th>\n",
       "      <th>second</th>\n",
       "      <th>day_of_week</th>\n",
       "      <th>is_weekend</th>\n",
       "    </tr>\n",
       "  </thead>\n",
       "  <tbody>\n",
       "    <tr>\n",
       "      <th>0</th>\n",
       "      <td>1</td>\n",
       "      <td>296</td>\n",
       "      <td>5.0</td>\n",
       "      <td>2006</td>\n",
       "      <td>5</td>\n",
       "      <td>17</td>\n",
       "      <td>15</td>\n",
       "      <td>34</td>\n",
       "      <td>4</td>\n",
       "      <td>2</td>\n",
       "      <td>0</td>\n",
       "    </tr>\n",
       "    <tr>\n",
       "      <th>1</th>\n",
       "      <td>1</td>\n",
       "      <td>306</td>\n",
       "      <td>3.5</td>\n",
       "      <td>2006</td>\n",
       "      <td>5</td>\n",
       "      <td>17</td>\n",
       "      <td>12</td>\n",
       "      <td>26</td>\n",
       "      <td>57</td>\n",
       "      <td>2</td>\n",
       "      <td>0</td>\n",
       "    </tr>\n",
       "    <tr>\n",
       "      <th>2</th>\n",
       "      <td>1</td>\n",
       "      <td>307</td>\n",
       "      <td>5.0</td>\n",
       "      <td>2006</td>\n",
       "      <td>5</td>\n",
       "      <td>17</td>\n",
       "      <td>12</td>\n",
       "      <td>27</td>\n",
       "      <td>8</td>\n",
       "      <td>2</td>\n",
       "      <td>0</td>\n",
       "    </tr>\n",
       "    <tr>\n",
       "      <th>3</th>\n",
       "      <td>1</td>\n",
       "      <td>665</td>\n",
       "      <td>5.0</td>\n",
       "      <td>2006</td>\n",
       "      <td>5</td>\n",
       "      <td>17</td>\n",
       "      <td>15</td>\n",
       "      <td>13</td>\n",
       "      <td>40</td>\n",
       "      <td>2</td>\n",
       "      <td>0</td>\n",
       "    </tr>\n",
       "    <tr>\n",
       "      <th>4</th>\n",
       "      <td>1</td>\n",
       "      <td>899</td>\n",
       "      <td>3.5</td>\n",
       "      <td>2006</td>\n",
       "      <td>5</td>\n",
       "      <td>17</td>\n",
       "      <td>12</td>\n",
       "      <td>21</td>\n",
       "      <td>50</td>\n",
       "      <td>2</td>\n",
       "      <td>0</td>\n",
       "    </tr>\n",
       "  </tbody>\n",
       "</table>\n",
       "</div>"
      ],
      "text/plain": [
       "   userId  movieId  rating  year  month  day  hour  minute  second  \\\n",
       "0       1      296     5.0  2006      5   17    15      34       4   \n",
       "1       1      306     3.5  2006      5   17    12      26      57   \n",
       "2       1      307     5.0  2006      5   17    12      27       8   \n",
       "3       1      665     5.0  2006      5   17    15      13      40   \n",
       "4       1      899     3.5  2006      5   17    12      21      50   \n",
       "\n",
       "   day_of_week  is_weekend  \n",
       "0            2           0  \n",
       "1            2           0  \n",
       "2            2           0  \n",
       "3            2           0  \n",
       "4            2           0  "
      ]
     },
     "execution_count": 48,
     "metadata": {},
     "output_type": "execute_result"
    }
   ],
   "source": [
    "# конвертирую timestamp в datetime и получаю временные признаки\n",
    "ratings_df['datetime'] = pd.to_datetime(ratings_df['timestamp'], unit='s')\n",
    "ratings_df = ratings_df.drop(columns=['timestamp'])\n",
    "\n",
    "ratings_df['year'] = ratings_df['datetime'].dt.year.astype(np.int32)\n",
    "ratings_df['month'] = ratings_df['datetime'].dt.month.astype(np.int8)\n",
    "ratings_df['day'] = ratings_df['datetime'].dt.day.astype(np.int16)\n",
    "ratings_df['hour'] = ratings_df['datetime'].dt.hour.astype(np.int8)\n",
    "ratings_df['minute'] = ratings_df['datetime'].dt.minute.astype(np.int8)\n",
    "ratings_df['second'] = ratings_df['datetime'].dt.second.astype(np.int8)\n",
    "ratings_df['day_of_week'] = ratings_df['datetime'].dt.dayofweek.astype(np.int8)  # Monday=0, Sunday=6\n",
    "ratings_df['is_weekend'] = (ratings_df['datetime'].dt.dayofweek > 4).astype(np.int8)\n",
    "\n",
    "ratings_df = ratings_df.drop(columns=['datetime'])\n",
    "\n",
    "ratings_df.head()"
   ]
  },
  {
   "cell_type": "code",
   "execution_count": 49,
   "metadata": {},
   "outputs": [
    {
     "data": {
      "text/html": [
       "<div>\n",
       "<style scoped>\n",
       "    .dataframe tbody tr th:only-of-type {\n",
       "        vertical-align: middle;\n",
       "    }\n",
       "\n",
       "    .dataframe tbody tr th {\n",
       "        vertical-align: top;\n",
       "    }\n",
       "\n",
       "    .dataframe thead th {\n",
       "        text-align: right;\n",
       "    }\n",
       "</style>\n",
       "<table border=\"1\" class=\"dataframe\">\n",
       "  <thead>\n",
       "    <tr style=\"text-align: right;\">\n",
       "      <th></th>\n",
       "      <th>movieId</th>\n",
       "      <th>title</th>\n",
       "      <th>genres</th>\n",
       "    </tr>\n",
       "  </thead>\n",
       "  <tbody>\n",
       "    <tr>\n",
       "      <th>0</th>\n",
       "      <td>1</td>\n",
       "      <td>Toy Story (1995)</td>\n",
       "      <td>[Adventure, Animation, Children, Comedy, Fantasy]</td>\n",
       "    </tr>\n",
       "    <tr>\n",
       "      <th>1</th>\n",
       "      <td>2</td>\n",
       "      <td>Jumanji (1995)</td>\n",
       "      <td>[Adventure, Children, Fantasy]</td>\n",
       "    </tr>\n",
       "    <tr>\n",
       "      <th>2</th>\n",
       "      <td>3</td>\n",
       "      <td>Grumpier Old Men (1995)</td>\n",
       "      <td>[Comedy, Romance]</td>\n",
       "    </tr>\n",
       "  </tbody>\n",
       "</table>\n",
       "</div>"
      ],
      "text/plain": [
       "   movieId                    title  \\\n",
       "0        1         Toy Story (1995)   \n",
       "1        2           Jumanji (1995)   \n",
       "2        3  Grumpier Old Men (1995)   \n",
       "\n",
       "                                              genres  \n",
       "0  [Adventure, Animation, Children, Comedy, Fantasy]  \n",
       "1                     [Adventure, Children, Fantasy]  \n",
       "2                                  [Comedy, Romance]  "
      ]
     },
     "execution_count": 49,
     "metadata": {},
     "output_type": "execute_result"
    }
   ],
   "source": [
    "def convert_genres(s):\n",
    "    s = s.split('|')\n",
    "    return s\n",
    "\n",
    "movies_df['genres'] = movies_df['genres'].apply(convert_genres)\n",
    "movies_df.head(3)"
   ]
  },
  {
   "cell_type": "code",
   "execution_count": 50,
   "metadata": {},
   "outputs": [
    {
     "data": {
      "text/html": [
       "<div>\n",
       "<style scoped>\n",
       "    .dataframe tbody tr th:only-of-type {\n",
       "        vertical-align: middle;\n",
       "    }\n",
       "\n",
       "    .dataframe tbody tr th {\n",
       "        vertical-align: top;\n",
       "    }\n",
       "\n",
       "    .dataframe thead th {\n",
       "        text-align: right;\n",
       "    }\n",
       "</style>\n",
       "<table border=\"1\" class=\"dataframe\">\n",
       "  <thead>\n",
       "    <tr style=\"text-align: right;\">\n",
       "      <th></th>\n",
       "      <th>movieId</th>\n",
       "      <th>title</th>\n",
       "      <th>genres</th>\n",
       "    </tr>\n",
       "  </thead>\n",
       "  <tbody>\n",
       "    <tr>\n",
       "      <th>0</th>\n",
       "      <td>1</td>\n",
       "      <td>Toy Story</td>\n",
       "      <td>[Adventure, Animation, Children, Comedy, Fantasy]</td>\n",
       "    </tr>\n",
       "    <tr>\n",
       "      <th>1</th>\n",
       "      <td>2</td>\n",
       "      <td>Jumanji</td>\n",
       "      <td>[Adventure, Children, Fantasy]</td>\n",
       "    </tr>\n",
       "  </tbody>\n",
       "</table>\n",
       "</div>"
      ],
      "text/plain": [
       "   movieId       title                                             genres\n",
       "0        1  Toy Story   [Adventure, Animation, Children, Comedy, Fantasy]\n",
       "1        2    Jumanji                      [Adventure, Children, Fantasy]"
      ]
     },
     "execution_count": 50,
     "metadata": {},
     "output_type": "execute_result"
    }
   ],
   "source": [
    "#movies_df['year'] = movies_df['title'].apply(lambda x: if int(x.split('(')[-1][:-2]))\n",
    "movies_df['title'] = movies_df['title'].apply(lambda x: x.split('(')[0])\n",
    "\n",
    "movies_df.head(2)"
   ]
  },
  {
   "cell_type": "code",
   "execution_count": 51,
   "metadata": {},
   "outputs": [
    {
     "data": {
      "text/plain": [
       "array(['(no genres listed)', 'Action', 'Adventure', 'Animation',\n",
       "       'Children', 'Comedy', 'Crime', 'Documentary', 'Drama', 'Fantasy',\n",
       "       'Film-Noir', 'Horror', 'IMAX', 'Musical', 'Mystery', 'Romance',\n",
       "       'Sci-Fi', 'Thriller', 'War', 'Western'], dtype='<U18')"
      ]
     },
     "execution_count": 51,
     "metadata": {},
     "output_type": "execute_result"
    }
   ],
   "source": [
    "all_genres = list(map(np.array, np.unique(np.array(movies_df['genres']))))\n",
    "p = []\n",
    "for x in all_genres:\n",
    "    for y in x:\n",
    "        p.append(y)\n",
    "\n",
    "all_genres = np.unique(p)\n",
    "\n",
    "del p\n",
    "gc.collect()\n",
    "\n",
    "all_genres"
   ]
  },
  {
   "cell_type": "code",
   "execution_count": 52,
   "metadata": {},
   "outputs": [
    {
     "data": {
      "text/html": [
       "<div>\n",
       "<style scoped>\n",
       "    .dataframe tbody tr th:only-of-type {\n",
       "        vertical-align: middle;\n",
       "    }\n",
       "\n",
       "    .dataframe tbody tr th {\n",
       "        vertical-align: top;\n",
       "    }\n",
       "\n",
       "    .dataframe thead th {\n",
       "        text-align: right;\n",
       "    }\n",
       "</style>\n",
       "<table border=\"1\" class=\"dataframe\">\n",
       "  <thead>\n",
       "    <tr style=\"text-align: right;\">\n",
       "      <th></th>\n",
       "      <th>movieId</th>\n",
       "      <th>title</th>\n",
       "      <th>genres</th>\n",
       "    </tr>\n",
       "  </thead>\n",
       "  <tbody>\n",
       "    <tr>\n",
       "      <th>0</th>\n",
       "      <td>1</td>\n",
       "      <td>Toy Story</td>\n",
       "      <td>[0.0, 0.0, 1.0, 1.0, 1.0, 1.0, 0.0, 0.0, 0.0, ...</td>\n",
       "    </tr>\n",
       "    <tr>\n",
       "      <th>1</th>\n",
       "      <td>2</td>\n",
       "      <td>Jumanji</td>\n",
       "      <td>[0.0, 0.0, 1.0, 0.0, 1.0, 0.0, 0.0, 0.0, 0.0, ...</td>\n",
       "    </tr>\n",
       "    <tr>\n",
       "      <th>2</th>\n",
       "      <td>3</td>\n",
       "      <td>Grumpier Old Men</td>\n",
       "      <td>[0.0, 0.0, 0.0, 0.0, 0.0, 1.0, 0.0, 0.0, 0.0, ...</td>\n",
       "    </tr>\n",
       "    <tr>\n",
       "      <th>3</th>\n",
       "      <td>4</td>\n",
       "      <td>Waiting to Exhale</td>\n",
       "      <td>[0.0, 0.0, 0.0, 0.0, 0.0, 1.0, 0.0, 0.0, 1.0, ...</td>\n",
       "    </tr>\n",
       "    <tr>\n",
       "      <th>4</th>\n",
       "      <td>5</td>\n",
       "      <td>Father of the Bride Part II</td>\n",
       "      <td>[0.0, 0.0, 0.0, 0.0, 0.0, 1.0, 0.0, 0.0, 0.0, ...</td>\n",
       "    </tr>\n",
       "  </tbody>\n",
       "</table>\n",
       "</div>"
      ],
      "text/plain": [
       "   movieId                         title  \\\n",
       "0        1                    Toy Story    \n",
       "1        2                      Jumanji    \n",
       "2        3             Grumpier Old Men    \n",
       "3        4            Waiting to Exhale    \n",
       "4        5  Father of the Bride Part II    \n",
       "\n",
       "                                              genres  \n",
       "0  [0.0, 0.0, 1.0, 1.0, 1.0, 1.0, 0.0, 0.0, 0.0, ...  \n",
       "1  [0.0, 0.0, 1.0, 0.0, 1.0, 0.0, 0.0, 0.0, 0.0, ...  \n",
       "2  [0.0, 0.0, 0.0, 0.0, 0.0, 1.0, 0.0, 0.0, 0.0, ...  \n",
       "3  [0.0, 0.0, 0.0, 0.0, 0.0, 1.0, 0.0, 0.0, 1.0, ...  \n",
       "4  [0.0, 0.0, 0.0, 0.0, 0.0, 1.0, 0.0, 0.0, 0.0, ...  "
      ]
     },
     "execution_count": 52,
     "metadata": {},
     "output_type": "execute_result"
    }
   ],
   "source": [
    "# векторизация жанров\n",
    "ndim = len(all_genres)\n",
    "genres_dict = {\n",
    "    c: i for i, c in enumerate(all_genres)\n",
    "}\n",
    "\n",
    "movies_df['genres'] = movies_df['genres'].apply(lambda o: [genres_dict[x] for x in o])\n",
    "\n",
    "# векторизация\n",
    "def vectorize_genres(lst):\n",
    "    vector = np.zeros(ndim)\n",
    "    for x in lst:\n",
    "        vector[x] = 1\n",
    "    \n",
    "    return vector\n",
    "\n",
    "movies_df['genres'] = movies_df['genres'].apply(vectorize_genres)\n",
    "movies_df.head()"
   ]
  },
  {
   "cell_type": "code",
   "execution_count": 53,
   "metadata": {},
   "outputs": [
    {
     "data": {
      "text/html": [
       "<div>\n",
       "<style scoped>\n",
       "    .dataframe tbody tr th:only-of-type {\n",
       "        vertical-align: middle;\n",
       "    }\n",
       "\n",
       "    .dataframe tbody tr th {\n",
       "        vertical-align: top;\n",
       "    }\n",
       "\n",
       "    .dataframe thead th {\n",
       "        text-align: right;\n",
       "    }\n",
       "</style>\n",
       "<table border=\"1\" class=\"dataframe\">\n",
       "  <thead>\n",
       "    <tr style=\"text-align: right;\">\n",
       "      <th></th>\n",
       "      <th>movieId</th>\n",
       "      <th>title</th>\n",
       "      <th>genre_0</th>\n",
       "      <th>genre_1</th>\n",
       "      <th>genre_2</th>\n",
       "      <th>genre_3</th>\n",
       "      <th>genre_4</th>\n",
       "      <th>genre_5</th>\n",
       "      <th>genre_6</th>\n",
       "      <th>genre_7</th>\n",
       "      <th>genre_8</th>\n",
       "      <th>genre_9</th>\n",
       "      <th>genre_10</th>\n",
       "      <th>genre_11</th>\n",
       "      <th>genre_12</th>\n",
       "      <th>genre_13</th>\n",
       "      <th>genre_14</th>\n",
       "      <th>genre_15</th>\n",
       "      <th>genre_16</th>\n",
       "      <th>genre_17</th>\n",
       "      <th>genre_18</th>\n",
       "      <th>genre_19</th>\n",
       "    </tr>\n",
       "  </thead>\n",
       "  <tbody>\n",
       "    <tr>\n",
       "      <th>0</th>\n",
       "      <td>1</td>\n",
       "      <td>Toy Story</td>\n",
       "      <td>0</td>\n",
       "      <td>0</td>\n",
       "      <td>1</td>\n",
       "      <td>1</td>\n",
       "      <td>1</td>\n",
       "      <td>1</td>\n",
       "      <td>0</td>\n",
       "      <td>0</td>\n",
       "      <td>0</td>\n",
       "      <td>1</td>\n",
       "      <td>0</td>\n",
       "      <td>0</td>\n",
       "      <td>0</td>\n",
       "      <td>0</td>\n",
       "      <td>0</td>\n",
       "      <td>0</td>\n",
       "      <td>0</td>\n",
       "      <td>0</td>\n",
       "      <td>0</td>\n",
       "      <td>0</td>\n",
       "    </tr>\n",
       "    <tr>\n",
       "      <th>1</th>\n",
       "      <td>2</td>\n",
       "      <td>Jumanji</td>\n",
       "      <td>0</td>\n",
       "      <td>0</td>\n",
       "      <td>1</td>\n",
       "      <td>0</td>\n",
       "      <td>1</td>\n",
       "      <td>0</td>\n",
       "      <td>0</td>\n",
       "      <td>0</td>\n",
       "      <td>0</td>\n",
       "      <td>1</td>\n",
       "      <td>0</td>\n",
       "      <td>0</td>\n",
       "      <td>0</td>\n",
       "      <td>0</td>\n",
       "      <td>0</td>\n",
       "      <td>0</td>\n",
       "      <td>0</td>\n",
       "      <td>0</td>\n",
       "      <td>0</td>\n",
       "      <td>0</td>\n",
       "    </tr>\n",
       "    <tr>\n",
       "      <th>2</th>\n",
       "      <td>3</td>\n",
       "      <td>Grumpier Old Men</td>\n",
       "      <td>0</td>\n",
       "      <td>0</td>\n",
       "      <td>0</td>\n",
       "      <td>0</td>\n",
       "      <td>0</td>\n",
       "      <td>1</td>\n",
       "      <td>0</td>\n",
       "      <td>0</td>\n",
       "      <td>0</td>\n",
       "      <td>0</td>\n",
       "      <td>0</td>\n",
       "      <td>0</td>\n",
       "      <td>0</td>\n",
       "      <td>0</td>\n",
       "      <td>0</td>\n",
       "      <td>1</td>\n",
       "      <td>0</td>\n",
       "      <td>0</td>\n",
       "      <td>0</td>\n",
       "      <td>0</td>\n",
       "    </tr>\n",
       "  </tbody>\n",
       "</table>\n",
       "</div>"
      ],
      "text/plain": [
       "   movieId              title  genre_0  genre_1  genre_2  genre_3  genre_4  \\\n",
       "0        1         Toy Story         0        0        1        1        1   \n",
       "1        2           Jumanji         0        0        1        0        1   \n",
       "2        3  Grumpier Old Men         0        0        0        0        0   \n",
       "\n",
       "   genre_5  genre_6  genre_7  genre_8  genre_9  genre_10  genre_11  genre_12  \\\n",
       "0        1        0        0        0        1         0         0         0   \n",
       "1        0        0        0        0        1         0         0         0   \n",
       "2        1        0        0        0        0         0         0         0   \n",
       "\n",
       "   genre_13  genre_14  genre_15  genre_16  genre_17  genre_18  genre_19  \n",
       "0         0         0         0         0         0         0         0  \n",
       "1         0         0         0         0         0         0         0  \n",
       "2         0         0         1         0         0         0         0  "
      ]
     },
     "execution_count": 53,
     "metadata": {},
     "output_type": "execute_result"
    }
   ],
   "source": [
    "for i in range(ndim):\n",
    "    movies_df[f'genre_{i}'] = movies_df['genres'].apply(lambda x: x[i]).astype(np.int8)\n",
    "\n",
    "movies_df = movies_df.drop(columns=['genres'])\n",
    "movies_df.head(3)"
   ]
  },
  {
   "cell_type": "code",
   "execution_count": 54,
   "metadata": {},
   "outputs": [
    {
     "data": {
      "text/html": [
       "<div>\n",
       "<style scoped>\n",
       "    .dataframe tbody tr th:only-of-type {\n",
       "        vertical-align: middle;\n",
       "    }\n",
       "\n",
       "    .dataframe tbody tr th {\n",
       "        vertical-align: top;\n",
       "    }\n",
       "\n",
       "    .dataframe thead th {\n",
       "        text-align: right;\n",
       "    }\n",
       "</style>\n",
       "<table border=\"1\" class=\"dataframe\">\n",
       "  <thead>\n",
       "    <tr style=\"text-align: right;\">\n",
       "      <th></th>\n",
       "      <th>userId</th>\n",
       "      <th>movieId</th>\n",
       "      <th>rating</th>\n",
       "      <th>year</th>\n",
       "      <th>month</th>\n",
       "      <th>day</th>\n",
       "      <th>hour</th>\n",
       "      <th>minute</th>\n",
       "      <th>second</th>\n",
       "      <th>day_of_week</th>\n",
       "      <th>is_weekend</th>\n",
       "      <th>genre_0</th>\n",
       "      <th>genre_1</th>\n",
       "      <th>genre_2</th>\n",
       "      <th>genre_3</th>\n",
       "      <th>genre_4</th>\n",
       "      <th>genre_5</th>\n",
       "      <th>genre_6</th>\n",
       "      <th>genre_7</th>\n",
       "      <th>genre_8</th>\n",
       "      <th>genre_9</th>\n",
       "      <th>genre_10</th>\n",
       "      <th>genre_11</th>\n",
       "      <th>genre_12</th>\n",
       "      <th>genre_13</th>\n",
       "      <th>genre_14</th>\n",
       "      <th>genre_15</th>\n",
       "      <th>genre_16</th>\n",
       "      <th>genre_17</th>\n",
       "      <th>genre_18</th>\n",
       "      <th>genre_19</th>\n",
       "    </tr>\n",
       "  </thead>\n",
       "  <tbody>\n",
       "    <tr>\n",
       "      <th>0</th>\n",
       "      <td>1</td>\n",
       "      <td>296</td>\n",
       "      <td>5.0</td>\n",
       "      <td>2006</td>\n",
       "      <td>5</td>\n",
       "      <td>17</td>\n",
       "      <td>15</td>\n",
       "      <td>34</td>\n",
       "      <td>4</td>\n",
       "      <td>2</td>\n",
       "      <td>0</td>\n",
       "      <td>0</td>\n",
       "      <td>0</td>\n",
       "      <td>0</td>\n",
       "      <td>0</td>\n",
       "      <td>0</td>\n",
       "      <td>1</td>\n",
       "      <td>1</td>\n",
       "      <td>0</td>\n",
       "      <td>1</td>\n",
       "      <td>0</td>\n",
       "      <td>0</td>\n",
       "      <td>0</td>\n",
       "      <td>0</td>\n",
       "      <td>0</td>\n",
       "      <td>0</td>\n",
       "      <td>0</td>\n",
       "      <td>0</td>\n",
       "      <td>1</td>\n",
       "      <td>0</td>\n",
       "      <td>0</td>\n",
       "    </tr>\n",
       "    <tr>\n",
       "      <th>1</th>\n",
       "      <td>1</td>\n",
       "      <td>306</td>\n",
       "      <td>3.5</td>\n",
       "      <td>2006</td>\n",
       "      <td>5</td>\n",
       "      <td>17</td>\n",
       "      <td>12</td>\n",
       "      <td>26</td>\n",
       "      <td>57</td>\n",
       "      <td>2</td>\n",
       "      <td>0</td>\n",
       "      <td>0</td>\n",
       "      <td>0</td>\n",
       "      <td>0</td>\n",
       "      <td>0</td>\n",
       "      <td>0</td>\n",
       "      <td>0</td>\n",
       "      <td>0</td>\n",
       "      <td>0</td>\n",
       "      <td>1</td>\n",
       "      <td>0</td>\n",
       "      <td>0</td>\n",
       "      <td>0</td>\n",
       "      <td>0</td>\n",
       "      <td>0</td>\n",
       "      <td>0</td>\n",
       "      <td>0</td>\n",
       "      <td>0</td>\n",
       "      <td>0</td>\n",
       "      <td>0</td>\n",
       "      <td>0</td>\n",
       "    </tr>\n",
       "    <tr>\n",
       "      <th>2</th>\n",
       "      <td>1</td>\n",
       "      <td>307</td>\n",
       "      <td>5.0</td>\n",
       "      <td>2006</td>\n",
       "      <td>5</td>\n",
       "      <td>17</td>\n",
       "      <td>12</td>\n",
       "      <td>27</td>\n",
       "      <td>8</td>\n",
       "      <td>2</td>\n",
       "      <td>0</td>\n",
       "      <td>0</td>\n",
       "      <td>0</td>\n",
       "      <td>0</td>\n",
       "      <td>0</td>\n",
       "      <td>0</td>\n",
       "      <td>0</td>\n",
       "      <td>0</td>\n",
       "      <td>0</td>\n",
       "      <td>1</td>\n",
       "      <td>0</td>\n",
       "      <td>0</td>\n",
       "      <td>0</td>\n",
       "      <td>0</td>\n",
       "      <td>0</td>\n",
       "      <td>0</td>\n",
       "      <td>0</td>\n",
       "      <td>0</td>\n",
       "      <td>0</td>\n",
       "      <td>0</td>\n",
       "      <td>0</td>\n",
       "    </tr>\n",
       "    <tr>\n",
       "      <th>3</th>\n",
       "      <td>1</td>\n",
       "      <td>665</td>\n",
       "      <td>5.0</td>\n",
       "      <td>2006</td>\n",
       "      <td>5</td>\n",
       "      <td>17</td>\n",
       "      <td>15</td>\n",
       "      <td>13</td>\n",
       "      <td>40</td>\n",
       "      <td>2</td>\n",
       "      <td>0</td>\n",
       "      <td>0</td>\n",
       "      <td>0</td>\n",
       "      <td>0</td>\n",
       "      <td>0</td>\n",
       "      <td>0</td>\n",
       "      <td>1</td>\n",
       "      <td>0</td>\n",
       "      <td>0</td>\n",
       "      <td>1</td>\n",
       "      <td>0</td>\n",
       "      <td>0</td>\n",
       "      <td>0</td>\n",
       "      <td>0</td>\n",
       "      <td>0</td>\n",
       "      <td>0</td>\n",
       "      <td>0</td>\n",
       "      <td>0</td>\n",
       "      <td>0</td>\n",
       "      <td>1</td>\n",
       "      <td>0</td>\n",
       "    </tr>\n",
       "    <tr>\n",
       "      <th>4</th>\n",
       "      <td>1</td>\n",
       "      <td>899</td>\n",
       "      <td>3.5</td>\n",
       "      <td>2006</td>\n",
       "      <td>5</td>\n",
       "      <td>17</td>\n",
       "      <td>12</td>\n",
       "      <td>21</td>\n",
       "      <td>50</td>\n",
       "      <td>2</td>\n",
       "      <td>0</td>\n",
       "      <td>0</td>\n",
       "      <td>0</td>\n",
       "      <td>0</td>\n",
       "      <td>0</td>\n",
       "      <td>0</td>\n",
       "      <td>1</td>\n",
       "      <td>0</td>\n",
       "      <td>0</td>\n",
       "      <td>0</td>\n",
       "      <td>0</td>\n",
       "      <td>0</td>\n",
       "      <td>0</td>\n",
       "      <td>0</td>\n",
       "      <td>1</td>\n",
       "      <td>0</td>\n",
       "      <td>1</td>\n",
       "      <td>0</td>\n",
       "      <td>0</td>\n",
       "      <td>0</td>\n",
       "      <td>0</td>\n",
       "    </tr>\n",
       "  </tbody>\n",
       "</table>\n",
       "</div>"
      ],
      "text/plain": [
       "   userId  movieId  rating  year  month  day  hour  minute  second  \\\n",
       "0       1      296     5.0  2006      5   17    15      34       4   \n",
       "1       1      306     3.5  2006      5   17    12      26      57   \n",
       "2       1      307     5.0  2006      5   17    12      27       8   \n",
       "3       1      665     5.0  2006      5   17    15      13      40   \n",
       "4       1      899     3.5  2006      5   17    12      21      50   \n",
       "\n",
       "   day_of_week  is_weekend  genre_0  genre_1  genre_2  genre_3  genre_4  \\\n",
       "0            2           0        0        0        0        0        0   \n",
       "1            2           0        0        0        0        0        0   \n",
       "2            2           0        0        0        0        0        0   \n",
       "3            2           0        0        0        0        0        0   \n",
       "4            2           0        0        0        0        0        0   \n",
       "\n",
       "   genre_5  genre_6  genre_7  genre_8  genre_9  genre_10  genre_11  genre_12  \\\n",
       "0        1        1        0        1        0         0         0         0   \n",
       "1        0        0        0        1        0         0         0         0   \n",
       "2        0        0        0        1        0         0         0         0   \n",
       "3        1        0        0        1        0         0         0         0   \n",
       "4        1        0        0        0        0         0         0         0   \n",
       "\n",
       "   genre_13  genre_14  genre_15  genre_16  genre_17  genre_18  genre_19  \n",
       "0         0         0         0         0         1         0         0  \n",
       "1         0         0         0         0         0         0         0  \n",
       "2         0         0         0         0         0         0         0  \n",
       "3         0         0         0         0         0         1         0  \n",
       "4         1         0         1         0         0         0         0  "
      ]
     },
     "execution_count": 54,
     "metadata": {},
     "output_type": "execute_result"
    }
   ],
   "source": [
    "# мерджу рейтинги и фильмы\n",
    "meta_df = ratings_df.merge(movies_df.drop(columns='title'), how='left', on='movieId')\n",
    "meta_df.head()"
   ]
  },
  {
   "cell_type": "code",
   "execution_count": 55,
   "metadata": {},
   "outputs": [
    {
     "name": "stdout",
     "output_type": "stream",
     "text": [
      "<class 'pandas.core.frame.DataFrame'>\n",
      "RangeIndex: 25000095 entries, 0 to 25000094\n",
      "Data columns (total 31 columns):\n",
      " #   Column       Dtype  \n",
      "---  ------       -----  \n",
      " 0   userId       int64  \n",
      " 1   movieId      int64  \n",
      " 2   rating       float64\n",
      " 3   year         int32  \n",
      " 4   month        int8   \n",
      " 5   day          int16  \n",
      " 6   hour         int8   \n",
      " 7   minute       int8   \n",
      " 8   second       int8   \n",
      " 9   day_of_week  int8   \n",
      " 10  is_weekend   int8   \n",
      " 11  genre_0      int8   \n",
      " 12  genre_1      int8   \n",
      " 13  genre_2      int8   \n",
      " 14  genre_3      int8   \n",
      " 15  genre_4      int8   \n",
      " 16  genre_5      int8   \n",
      " 17  genre_6      int8   \n",
      " 18  genre_7      int8   \n",
      " 19  genre_8      int8   \n",
      " 20  genre_9      int8   \n",
      " 21  genre_10     int8   \n",
      " 22  genre_11     int8   \n",
      " 23  genre_12     int8   \n",
      " 24  genre_13     int8   \n",
      " 25  genre_14     int8   \n",
      " 26  genre_15     int8   \n",
      " 27  genre_16     int8   \n",
      " 28  genre_17     int8   \n",
      " 29  genre_18     int8   \n",
      " 30  genre_19     int8   \n",
      "dtypes: float64(1), int16(1), int32(1), int64(2), int8(26)\n",
      "memory usage: 1.3 GB\n"
     ]
    }
   ],
   "source": [
    "meta_df.info()"
   ]
  },
  {
   "cell_type": "markdown",
   "metadata": {},
   "source": [
    "## Моделировние"
   ]
  },
  {
   "cell_type": "markdown",
   "metadata": {},
   "source": [
    "### Подготовка датасета"
   ]
  },
  {
   "cell_type": "code",
   "execution_count": 56,
   "metadata": {},
   "outputs": [
    {
     "data": {
      "text/plain": [
       "16"
      ]
     },
     "execution_count": 56,
     "metadata": {},
     "output_type": "execute_result"
    }
   ],
   "source": [
    "gc.collect()"
   ]
  },
  {
   "cell_type": "code",
   "execution_count": 57,
   "metadata": {},
   "outputs": [
    {
     "data": {
      "text/html": [
       "<div>\n",
       "<style scoped>\n",
       "    .dataframe tbody tr th:only-of-type {\n",
       "        vertical-align: middle;\n",
       "    }\n",
       "\n",
       "    .dataframe tbody tr th {\n",
       "        vertical-align: top;\n",
       "    }\n",
       "\n",
       "    .dataframe thead th {\n",
       "        text-align: right;\n",
       "    }\n",
       "</style>\n",
       "<table border=\"1\" class=\"dataframe\">\n",
       "  <thead>\n",
       "    <tr style=\"text-align: right;\">\n",
       "      <th></th>\n",
       "      <th>userId</th>\n",
       "      <th>movieId</th>\n",
       "      <th>rating</th>\n",
       "      <th>year</th>\n",
       "      <th>month</th>\n",
       "      <th>day</th>\n",
       "      <th>hour</th>\n",
       "      <th>minute</th>\n",
       "      <th>second</th>\n",
       "      <th>day_of_week</th>\n",
       "      <th>is_weekend</th>\n",
       "      <th>genre_0</th>\n",
       "      <th>genre_1</th>\n",
       "      <th>genre_2</th>\n",
       "      <th>genre_3</th>\n",
       "      <th>genre_4</th>\n",
       "      <th>genre_5</th>\n",
       "      <th>genre_6</th>\n",
       "      <th>genre_7</th>\n",
       "      <th>genre_8</th>\n",
       "      <th>genre_9</th>\n",
       "      <th>genre_10</th>\n",
       "      <th>genre_11</th>\n",
       "      <th>genre_12</th>\n",
       "      <th>genre_13</th>\n",
       "      <th>genre_14</th>\n",
       "      <th>genre_15</th>\n",
       "      <th>genre_16</th>\n",
       "      <th>genre_17</th>\n",
       "      <th>genre_18</th>\n",
       "      <th>genre_19</th>\n",
       "    </tr>\n",
       "  </thead>\n",
       "  <tbody>\n",
       "    <tr>\n",
       "      <th>0</th>\n",
       "      <td>1</td>\n",
       "      <td>296</td>\n",
       "      <td>5.0</td>\n",
       "      <td>2006</td>\n",
       "      <td>5</td>\n",
       "      <td>17</td>\n",
       "      <td>15</td>\n",
       "      <td>34</td>\n",
       "      <td>4</td>\n",
       "      <td>2</td>\n",
       "      <td>0</td>\n",
       "      <td>0</td>\n",
       "      <td>0</td>\n",
       "      <td>0</td>\n",
       "      <td>0</td>\n",
       "      <td>0</td>\n",
       "      <td>1</td>\n",
       "      <td>1</td>\n",
       "      <td>0</td>\n",
       "      <td>1</td>\n",
       "      <td>0</td>\n",
       "      <td>0</td>\n",
       "      <td>0</td>\n",
       "      <td>0</td>\n",
       "      <td>0</td>\n",
       "      <td>0</td>\n",
       "      <td>0</td>\n",
       "      <td>0</td>\n",
       "      <td>1</td>\n",
       "      <td>0</td>\n",
       "      <td>0</td>\n",
       "    </tr>\n",
       "    <tr>\n",
       "      <th>1</th>\n",
       "      <td>1</td>\n",
       "      <td>306</td>\n",
       "      <td>3.5</td>\n",
       "      <td>2006</td>\n",
       "      <td>5</td>\n",
       "      <td>17</td>\n",
       "      <td>12</td>\n",
       "      <td>26</td>\n",
       "      <td>57</td>\n",
       "      <td>2</td>\n",
       "      <td>0</td>\n",
       "      <td>0</td>\n",
       "      <td>0</td>\n",
       "      <td>0</td>\n",
       "      <td>0</td>\n",
       "      <td>0</td>\n",
       "      <td>0</td>\n",
       "      <td>0</td>\n",
       "      <td>0</td>\n",
       "      <td>1</td>\n",
       "      <td>0</td>\n",
       "      <td>0</td>\n",
       "      <td>0</td>\n",
       "      <td>0</td>\n",
       "      <td>0</td>\n",
       "      <td>0</td>\n",
       "      <td>0</td>\n",
       "      <td>0</td>\n",
       "      <td>0</td>\n",
       "      <td>0</td>\n",
       "      <td>0</td>\n",
       "    </tr>\n",
       "  </tbody>\n",
       "</table>\n",
       "</div>"
      ],
      "text/plain": [
       "   userId  movieId  rating  year  month  day  hour  minute  second  \\\n",
       "0       1      296     5.0  2006      5   17    15      34       4   \n",
       "1       1      306     3.5  2006      5   17    12      26      57   \n",
       "\n",
       "   day_of_week  is_weekend  genre_0  genre_1  genre_2  genre_3  genre_4  \\\n",
       "0            2           0        0        0        0        0        0   \n",
       "1            2           0        0        0        0        0        0   \n",
       "\n",
       "   genre_5  genre_6  genre_7  genre_8  genre_9  genre_10  genre_11  genre_12  \\\n",
       "0        1        1        0        1        0         0         0         0   \n",
       "1        0        0        0        1        0         0         0         0   \n",
       "\n",
       "   genre_13  genre_14  genre_15  genre_16  genre_17  genre_18  genre_19  \n",
       "0         0         0         0         0         1         0         0  \n",
       "1         0         0         0         0         0         0         0  "
      ]
     },
     "execution_count": 57,
     "metadata": {},
     "output_type": "execute_result"
    }
   ],
   "source": [
    "meta_df.head(2)"
   ]
  },
  {
   "cell_type": "code",
   "execution_count": 19,
   "metadata": {},
   "outputs": [],
   "source": [
    "from sklearn.model_selection import train_test_split\n",
    "\n",
    "train_df, valid_df = train_test_split(meta_df)"
   ]
  },
  {
   "cell_type": "code",
   "execution_count": 20,
   "metadata": {},
   "outputs": [
    {
     "data": {
      "text/plain": [
       "'cuda'"
      ]
     },
     "execution_count": 20,
     "metadata": {},
     "output_type": "execute_result"
    }
   ],
   "source": [
    "import torch\n",
    "\n",
    "device = 'cuda' if torch.cuda.is_available() else 'cpu'\n",
    "device"
   ]
  },
  {
   "cell_type": "code",
   "execution_count": 21,
   "metadata": {},
   "outputs": [],
   "source": [
    "import torch\n",
    "from torch.utils.data import Dataset, DataLoader\n",
    "import torch.nn as nn\n",
    "\n",
    "user_cols = ['year', 'month', 'hour', 'second', 'day_of_week', 'is_weekend']\n",
    "movie_cols = ['genre_'+str(i) for i in range(20)]\n",
    "\n",
    "class MovieRatingsDataset(Dataset):\n",
    "    def __init__(self, df, is_train=True):\n",
    "        self.users = torch.tensor(df['userId'].values).to(device)\n",
    "        self.movies = torch.tensor(df['movieId'].values).to(device)\n",
    "        self.ratings = torch.tensor(df['rating'].values, dtype=torch.float32).to(device)\n",
    "        self.user_features = torch.tensor(df[user_cols].values, dtype=torch.float32).to(device)\n",
    "        self.movie_features = torch.tensor(df[movie_cols].values, dtype=torch.float32).to(device)\n",
    "\n",
    "    def __len__(self):\n",
    "        return len(self.ratings)\n",
    "\n",
    "    def __getitem__(self, idx):\n",
    "        return (\n",
    "            self.users[idx],\n",
    "            self.movies[idx],\n",
    "            self.user_features[idx],\n",
    "            self.movie_features[idx],\n",
    "            self.ratings[idx]\n",
    "        )"
   ]
  },
  {
   "cell_type": "code",
   "execution_count": 22,
   "metadata": {},
   "outputs": [],
   "source": [
    "train_dataset = MovieRatingsDataset(train_df)\n",
    "valid_dataset = MovieRatingsDataset(valid_df)\n",
    "\n",
    "train_loader = DataLoader(train_dataset, batch_size=50000)\n",
    "valid_loader = DataLoader(valid_dataset, batch_size=50000)\n",
    "\n",
    "sample_batch = next(iter(train_dataset))"
   ]
  },
  {
   "cell_type": "code",
   "execution_count": 23,
   "metadata": {},
   "outputs": [],
   "source": [
    "class RecommenderNet(nn.Module):\n",
    "    def __init__(self, num_users, num_movies, user_feature_dim, movie_feature_dim, embedding_size):\n",
    "        super(RecommenderNet, self).__init__()\n",
    "\n",
    "        # Embeddings for user and movie IDs\n",
    "        self.user_embedding = nn.Embedding(num_users, embedding_size)\n",
    "        self.movie_embedding = nn.Embedding(num_movies, embedding_size)\n",
    "\n",
    "        # Additional layers for user and movie features\n",
    "        self.user_feature_layer = nn.Linear(user_feature_dim, embedding_size)\n",
    "        self.movie_feature_layer = nn.Linear(movie_feature_dim, embedding_size)\n",
    "\n",
    "        # Calculate the total features after concatenation\n",
    "        # Here, we assume the output size of feature layers is also 'embedding_size'\n",
    "        total_feature_size = embedding_size * 4  # 2 embeddings + 2 feature layers\n",
    "\n",
    "        # Example final layer - Adjust the input size here\n",
    "        self.fc = nn.Linear(total_feature_size, 1)\n",
    "\n",
    "    def forward(self, user_ids, movie_ids, user_features, movie_features):\n",
    "        user_embedded = self.user_embedding(user_ids)\n",
    "        movie_embedded = self.movie_embedding(movie_ids)\n",
    "\n",
    "        user_feature_embedded = self.user_feature_layer(user_features)\n",
    "        movie_feature_embedded = self.movie_feature_layer(movie_features)\n",
    "\n",
    "        # Combine all features\n",
    "        features = torch.cat([user_embedded, movie_embedded, user_feature_embedded, movie_feature_embedded], dim=1)\n",
    "\n",
    "        # Pass through the final layer\n",
    "        rating = self.fc(features)\n",
    "\n",
    "        return rating.squeeze()\n",
    "\n"
   ]
  },
  {
   "cell_type": "code",
   "execution_count": 24,
   "metadata": {},
   "outputs": [],
   "source": [
    "# конфиг\n",
    "num_users = meta_df['userId'].max() + 1\n",
    "num_movies = meta_df['movieId'].max() + 1\n",
    "user_feature_dim = len(user_cols)\n",
    "movie_feature_dim = len(movie_cols)\n",
    "embedding_size = 64\n",
    "\n",
    "num_epochs = 20"
   ]
  },
  {
   "cell_type": "code",
   "execution_count": 43,
   "metadata": {},
   "outputs": [
    {
     "name": "stderr",
     "output_type": "stream",
     "text": [
      "\u001b[34m\u001b[1mwandb\u001b[0m: \u001b[33mWARNING\u001b[0m Calling wandb.login() after wandb.init() has no effect.\n"
     ]
    },
    {
     "data": {
      "text/html": [
       "Finishing last run (ID:bxe4hk74) before initializing another..."
      ],
      "text/plain": [
       "<IPython.core.display.HTML object>"
      ]
     },
     "metadata": {},
     "output_type": "display_data"
    },
    {
     "data": {
      "text/html": [
       "Waiting for W&B process to finish... <strong style=\"color:green\">(success).</strong>"
      ],
      "text/plain": [
       "<IPython.core.display.HTML object>"
      ]
     },
     "metadata": {},
     "output_type": "display_data"
    },
    {
     "data": {
      "text/html": [
       " View run <strong style=\"color:#cdcd00\">clean-sponge-22</strong> at: <a href='https://wandb.ai/komandakomanda/uncategorized/runs/bxe4hk74' target=\"_blank\">https://wandb.ai/komandakomanda/uncategorized/runs/bxe4hk74</a><br/>Synced 5 W&B file(s), 0 media file(s), 0 artifact file(s) and 0 other file(s)"
      ],
      "text/plain": [
       "<IPython.core.display.HTML object>"
      ]
     },
     "metadata": {},
     "output_type": "display_data"
    },
    {
     "data": {
      "text/html": [
       "Find logs at: <code>.\\wandb\\run-20231115_110730-bxe4hk74\\logs</code>"
      ],
      "text/plain": [
       "<IPython.core.display.HTML object>"
      ]
     },
     "metadata": {},
     "output_type": "display_data"
    },
    {
     "data": {
      "text/html": [
       "Successfully finished last run (ID:bxe4hk74). Initializing new run:<br/>"
      ],
      "text/plain": [
       "<IPython.core.display.HTML object>"
      ]
     },
     "metadata": {},
     "output_type": "display_data"
    },
    {
     "data": {
      "text/html": [
       "wandb version 0.16.0 is available!  To upgrade, please run:\n",
       " $ pip install wandb --upgrade"
      ],
      "text/plain": [
       "<IPython.core.display.HTML object>"
      ]
     },
     "metadata": {},
     "output_type": "display_data"
    },
    {
     "data": {
      "text/html": [
       "Tracking run with wandb version 0.15.10"
      ],
      "text/plain": [
       "<IPython.core.display.HTML object>"
      ]
     },
     "metadata": {},
     "output_type": "display_data"
    },
    {
     "data": {
      "text/html": [
       "Run data is saved locally in <code>c:\\Users\\Windows_11\\Desktop\\соревы\\VK\\wandb\\run-20231115_141745-oabbyr3c</code>"
      ],
      "text/plain": [
       "<IPython.core.display.HTML object>"
      ]
     },
     "metadata": {},
     "output_type": "display_data"
    },
    {
     "data": {
      "text/html": [
       "Syncing run <strong><a href='https://wandb.ai/komandakomanda/uncategorized/runs/oabbyr3c' target=\"_blank\">olive-morning-23</a></strong> to <a href='https://wandb.ai/komandakomanda/uncategorized' target=\"_blank\">Weights & Biases</a> (<a href='https://wandb.me/run' target=\"_blank\">docs</a>)<br/>"
      ],
      "text/plain": [
       "<IPython.core.display.HTML object>"
      ]
     },
     "metadata": {},
     "output_type": "display_data"
    },
    {
     "data": {
      "text/html": [
       " View project at <a href='https://wandb.ai/komandakomanda/uncategorized' target=\"_blank\">https://wandb.ai/komandakomanda/uncategorized</a>"
      ],
      "text/plain": [
       "<IPython.core.display.HTML object>"
      ]
     },
     "metadata": {},
     "output_type": "display_data"
    },
    {
     "data": {
      "text/html": [
       " View run at <a href='https://wandb.ai/komandakomanda/uncategorized/runs/oabbyr3c' target=\"_blank\">https://wandb.ai/komandakomanda/uncategorized/runs/oabbyr3c</a>"
      ],
      "text/plain": [
       "<IPython.core.display.HTML object>"
      ]
     },
     "metadata": {},
     "output_type": "display_data"
    },
    {
     "data": {
      "text/html": [
       "<button onClick=\"this.nextSibling.style.display='block';this.style.display='none';\">Display W&B run</button><iframe src='https://wandb.ai/komandakomanda/uncategorized/runs/oabbyr3c?jupyter=true' style='border:none;width:100%;height:420px;display:none;'></iframe>"
      ],
      "text/plain": [
       "<wandb.sdk.wandb_run.Run at 0x25a5cc3a0b0>"
      ]
     },
     "execution_count": 43,
     "metadata": {},
     "output_type": "execute_result"
    }
   ],
   "source": [
    "import wandb\n",
    "\n",
    "wandb.login()\n",
    "wandb.init()"
   ]
  },
  {
   "cell_type": "code",
   "execution_count": 45,
   "metadata": {},
   "outputs": [],
   "source": [
    "from torch.optim.lr_scheduler import StepLR\n",
    "\n",
    "\n",
    "\n",
    "def train_and_validate(model, train_loader, test_loader, epochs=5):\n",
    "    optimizer = torch.optim.Adam(model.parameters(), lr=0.001)\n",
    "    loss_fn = nn.MSELoss()\n",
    "\n",
    "    best_metric = 2\n",
    "\n",
    "    scheduler = StepLR(optimizer=optimizer, step_size=2, gamma=0.3)\n",
    "\n",
    "    for epoch in range(epochs):\n",
    "        model.train()\n",
    "        total_train_loss = 0\n",
    "        for user_ids, movie_ids, user_feats, movie_feats, ratings in train_loader:\n",
    "            optimizer.zero_grad()\n",
    "            predictions = model(user_ids, movie_ids, user_feats, movie_feats)\n",
    "            loss = loss_fn(predictions, ratings)\n",
    "            loss.backward()\n",
    "            optimizer.step()\n",
    "            total_train_loss += loss.item()\n",
    "\n",
    "        avg_train_loss = total_train_loss / len(train_loader)\n",
    "\n",
    "        \n",
    "\n",
    "        scheduler.step()\n",
    "\n",
    "        # Validation phase\n",
    "        model.eval()\n",
    "        total_val_loss = 0\n",
    "        with torch.no_grad():\n",
    "            for user_ids, movie_ids, user_feats, movie_feats, ratings in test_loader:\n",
    "                predictions = model(user_ids, movie_ids, user_feats, movie_feats)\n",
    "                loss = loss_fn(predictions, ratings)\n",
    "                total_val_loss += loss.item()\n",
    "\n",
    "        avg_val_loss = total_val_loss / len(test_loader)\n",
    "\n",
    "        if avg_val_loss < best_metric:\n",
    "            torch.save(model.state_dict(), './best_model')\n",
    "            best_metric = avg_val_loss\n",
    "\n",
    "        wandb.log({'train loss': avg_train_loss})\n",
    "        wandb.log({'val loss': avg_val_loss})\n",
    "\n",
    "        print(f'Epoch {epoch+1}: Train Loss: {avg_train_loss:.4f}, Validation Loss: {avg_val_loss:.4f}')\n"
   ]
  },
  {
   "cell_type": "code",
   "execution_count": 46,
   "metadata": {},
   "outputs": [
    {
     "name": "stdout",
     "output_type": "stream",
     "text": [
      "Epoch 1: Train Loss: 829.5831, Validation Loss: 2.4864\n",
      "Epoch 2: Train Loss: 2.0908, Validation Loss: 1.7400\n",
      "Epoch 3: Train Loss: 1.6640, Validation Loss: 1.5758\n",
      "Epoch 4: Train Loss: 1.5081, Validation Loss: 1.4312\n",
      "Epoch 5: Train Loss: 1.4170, Validation Loss: 1.3900\n",
      "Epoch 6: Train Loss: 1.3745, Validation Loss: 1.3468\n",
      "Epoch 7: Train Loss: 1.3457, Validation Loss: 1.3327\n",
      "Epoch 8: Train Loss: 1.3306, Validation Loss: 1.3168\n",
      "Epoch 9: Train Loss: 1.3197, Validation Loss: 1.3114\n",
      "Epoch 10: Train Loss: 1.3138, Validation Loss: 1.3051\n",
      "Epoch 11: Train Loss: 1.3095, Validation Loss: 1.3029\n",
      "Epoch 12: Train Loss: 1.3071, Validation Loss: 1.3002\n",
      "Epoch 13: Train Loss: 1.3052, Validation Loss: 1.2993\n",
      "Epoch 14: Train Loss: 1.3042, Validation Loss: 1.2982\n",
      "Epoch 15: Train Loss: 1.3035, Validation Loss: 1.2978\n",
      "Epoch 16: Train Loss: 1.3031, Validation Loss: 1.2974\n",
      "Epoch 17: Train Loss: 1.3028, Validation Loss: 1.2973\n",
      "Epoch 18: Train Loss: 1.3026, Validation Loss: 1.2971\n",
      "Epoch 19: Train Loss: 1.3025, Validation Loss: 1.2971\n",
      "Epoch 20: Train Loss: 1.3025, Validation Loss: 1.2970\n"
     ]
    }
   ],
   "source": [
    "# Initialize your model\n",
    "model = RecommenderNet(num_users, num_movies, user_feature_dim, movie_feature_dim, embedding_size).to(device)\n",
    "\n",
    "# Train and validate the model\n",
    "train_and_validate(model, train_loader, valid_loader, epochs=num_epochs)"
   ]
  },
  {
   "cell_type": "markdown",
   "metadata": {},
   "source": [
    "# Задачи"
   ]
  },
  {
   "cell_type": "markdown",
   "metadata": {},
   "source": [
    "## Основная задача"
   ]
  },
  {
   "cell_type": "code",
   "execution_count": 58,
   "metadata": {},
   "outputs": [
    {
     "data": {
      "text/plain": [
       "RecommenderNet(\n",
       "  (user_embedding): Embedding(162542, 64)\n",
       "  (movie_embedding): Embedding(209172, 64)\n",
       "  (user_feature_layer): Linear(in_features=6, out_features=64, bias=True)\n",
       "  (movie_feature_layer): Linear(in_features=20, out_features=64, bias=True)\n",
       "  (fc): Linear(in_features=256, out_features=1, bias=True)\n",
       ")"
      ]
     },
     "execution_count": 58,
     "metadata": {},
     "output_type": "execute_result"
    }
   ],
   "source": [
    "import torch\n",
    "\n",
    "model = RecommenderNet(num_users, num_movies, user_feature_dim, movie_feature_dim, embedding_size)\n",
    "model.load_state_dict(torch.load('./best_model'))\n",
    "model.eval()  "
   ]
  },
  {
   "cell_type": "code",
   "execution_count": 131,
   "metadata": {},
   "outputs": [
    {
     "data": {
      "text/plain": [
       "(62423, 22)"
      ]
     },
     "execution_count": 131,
     "metadata": {},
     "output_type": "execute_result"
    }
   ],
   "source": [
    "movies_df.shape"
   ]
  },
  {
   "cell_type": "code",
   "execution_count": 169,
   "metadata": {},
   "outputs": [],
   "source": [
    "some_movie_id = 42"
   ]
  },
  {
   "cell_type": "code",
   "execution_count": 170,
   "metadata": {},
   "outputs": [],
   "source": [
    "from sklearn.metrics.pairwise import cosine_similarity\n",
    "\n",
    "def find_similar_movies(movie_id, embeddings, top_n=10):\n",
    "    # Получаем эмбеддинг интересующего фильма\n",
    "\n",
    "    movie_embedding = torch.tensor(embeddings[movie_id]).unsqueeze(0)\n",
    "\n",
    "    # Вычисляем косинусное сходство между этим фильмом и всеми остальными\n",
    "    similarities = cosine_similarity(movie_embedding, embeddings)[0]\n",
    "\n",
    "    # Находим индексы фильмов с наивысшим сходством\n",
    "    most_similar = similarities.argsort()[-top_n:]\n",
    "    #p = []\n",
    "    \n",
    "    #for e in most_similar:\n",
    "        #if len(movies_df[movies_df['movieId'] == e]['title']) > 0:\n",
    "            #p.append(e)\n",
    "\n",
    "    return most_similar\n",
    "\n",
    "# Предполагая, что модель уже обучена\n",
    "movie_embeddings = model.movie_embedding.weight.data.cpu().numpy()\n",
    "similar_movies = find_similar_movies(some_movie_id, movie_embeddings)"
   ]
  },
  {
   "cell_type": "code",
   "execution_count": 171,
   "metadata": {},
   "outputs": [
    {
     "name": "stdout",
     "output_type": "stream",
     "text": [
      "Prosecuting Evil: The Extraordinary World of Ben Ferencz \n",
      "\n",
      "\n",
      "Delam Mikhad \n",
      "\n",
      "Afonya \n",
      "\n",
      "\n",
      "Falling in Love \n",
      "Dead Presidents \n"
     ]
    }
   ],
   "source": [
    "for idx in similar_movies:\n",
    "    print(*movies_df[movies_df['movieId'] == idx]['title'])"
   ]
  },
  {
   "cell_type": "markdown",
   "metadata": {},
   "source": [
    "### Доп. задание 1"
   ]
  },
  {
   "cell_type": "code",
   "execution_count": 172,
   "metadata": {},
   "outputs": [],
   "source": [
    "def find_similar_movies(movie_id, embeddings, top_n=10):\n",
    "\n",
    "    movie_embedding = torch.tensor(embeddings[movie_id]).unsqueeze(0)\n",
    "    similarities = cosine_similarity(movie_embedding, embeddings)[0]\n",
    "\n",
    "    # Получение индексов и значений для top_n наиболее похожих фильмов\n",
    "    most_similar_indices = similarities.argsort()[-top_n:][::-1]\n",
    "\n",
    "    most_similar_values = similarities[most_similar_indices]\n",
    "\n",
    "    return list(zip(most_similar_indices, most_similar_values))\n",
    "\n",
    "# Получение эмбеддингов\n",
    "movie_embeddings = model.movie_embedding.weight.data.cpu().numpy()\n",
    "similar_movies = find_similar_movies(some_movie_id, movie_embeddings, top_n=10)"
   ]
  },
  {
   "cell_type": "code",
   "execution_count": 179,
   "metadata": {},
   "outputs": [
    {
     "name": "stdout",
     "output_type": "stream",
     "text": [
      "Dead Presidents  1.0\n",
      "Falling in Love  0.5729036\n",
      " 0.5321094\n",
      " 0.51268554\n",
      "Afonya  0.51128185\n",
      " 0.4969297\n",
      "Delam Mikhad  0.48930246\n",
      " 0.4775353\n",
      " 0.4736694\n",
      "Prosecuting Evil: The Extraordinary World of Ben Ferencz  0.47296485\n"
     ]
    }
   ],
   "source": [
    "for idx, similarity in similar_movies:\n",
    "    movie_title = movies_df[movies_df['movieId'] == idx]['title']\n",
    "    #print(f\"{movie_title}: {similarity:.3f}\")\n",
    "    print(*movie_title, end=' ')\n",
    "    print(similarity)"
   ]
  },
  {
   "cell_type": "markdown",
   "metadata": {},
   "source": [
    "### Доп. задание 2"
   ]
  },
  {
   "cell_type": "markdown",
   "metadata": {},
   "source": [
    "#### Получение Эмбеддингов Пользователя и Фильмов"
   ]
  },
  {
   "cell_type": "code",
   "execution_count": 199,
   "metadata": {},
   "outputs": [],
   "source": [
    "user_embeddings = model.user_embedding.weight.data.cpu().numpy()\n",
    "movie_embeddings = model.movie_embedding.weight.data.cpu().numpy()"
   ]
  },
  {
   "cell_type": "code",
   "execution_count": 200,
   "metadata": {},
   "outputs": [],
   "source": [
    "def find_recommended_movies(user_id, user_embeddings, movie_embeddings, ratings_df, movies_df, top_n=10):\n",
    "    # Получение эмбеддинга пользователя\n",
    "    user_embedding = user_embeddings[user_id]\n",
    "\n",
    "    # Вычисление сходства между эмбеддингом пользователя и эмбеддингами всех фильмов\n",
    "    similarities = np.dot(movie_embeddings, user_embedding)\n",
    "\n",
    "    # Получение индексов фильмов с наивысшим сходством\n",
    "    top_movie_indices = similarities.argsort()[::-1]\n",
    "\n",
    "    # Исключение фильмов, которые пользователь уже смотрел\n",
    "    watched_movies = ratings_df[ratings_df['userId'] == user_id]['movieId'].unique()\n",
    "    recommended_indices = [idx for idx in top_movie_indices if idx not in watched_movies][:top_n]\n",
    "\n",
    "    # Получение названий фильмов\n",
    "    recommended_movies = movies_df.loc[movies_df['movieId'].isin(recommended_indices)]\n",
    "    return recommended_movies[['movieId', 'title']]\n"
   ]
  },
  {
   "cell_type": "code",
   "execution_count": 210,
   "metadata": {},
   "outputs": [
    {
     "data": {
      "text/html": [
       "<div>\n",
       "<style scoped>\n",
       "    .dataframe tbody tr th:only-of-type {\n",
       "        vertical-align: middle;\n",
       "    }\n",
       "\n",
       "    .dataframe tbody tr th {\n",
       "        vertical-align: top;\n",
       "    }\n",
       "\n",
       "    .dataframe thead th {\n",
       "        text-align: right;\n",
       "    }\n",
       "</style>\n",
       "<table border=\"1\" class=\"dataframe\">\n",
       "  <thead>\n",
       "    <tr style=\"text-align: right;\">\n",
       "      <th></th>\n",
       "      <th>movieId</th>\n",
       "      <th>title</th>\n",
       "    </tr>\n",
       "  </thead>\n",
       "  <tbody>\n",
       "    <tr>\n",
       "      <th>27753</th>\n",
       "      <td>130073</td>\n",
       "      <td>Cinderella</td>\n",
       "    </tr>\n",
       "    <tr>\n",
       "      <th>41216</th>\n",
       "      <td>161185</td>\n",
       "      <td>Helix</td>\n",
       "    </tr>\n",
       "  </tbody>\n",
       "</table>\n",
       "</div>"
      ],
      "text/plain": [
       "       movieId        title\n",
       "27753   130073  Cinderella \n",
       "41216   161185       Helix "
      ]
     },
     "metadata": {},
     "output_type": "display_data"
    }
   ],
   "source": [
    "# Предполагая, что модель уже обучена и user_id - это индекс, а не исходный ID\n",
    "user_id = 1  # Пример пользователя\n",
    "\n",
    "recommended_movies = find_recommended_movies(user_id, user_embeddings, movie_embeddings, ratings_df, movies_df, top_n=10)\n",
    "display(recommended_movies)\n"
   ]
  },
  {
   "cell_type": "markdown",
   "metadata": {},
   "source": [
    "### Доп. задание 3"
   ]
  },
  {
   "cell_type": "markdown",
   "metadata": {},
   "source": [
    "#### Определение Функции Для Объяснения Рекомендаций"
   ]
  },
  {
   "cell_type": "code",
   "execution_count": 211,
   "metadata": {},
   "outputs": [],
   "source": [
    "def explain_recommendations(user_id, recommended_movies, ratings_df, movies_df):\n",
    "    explanations = []\n",
    "    genre_columns = [col for col in movies_df.columns if col.startswith('genre_')]\n",
    "\n",
    "    # Получаем фильмы, которые пользователь уже смотрел и высоко оценил\n",
    "    user_ratings = ratings_df[ratings_df['userId'] == user_id]\n",
    "    user_high_ratings = user_ratings[user_ratings['rating'] > 4]\n",
    "    user_high_ratings = user_high_ratings.merge(movies_df, on='movieId')\n",
    "\n",
    "    # Добавляем жанровые профили к рекомендованным фильмам\n",
    "    recommended_with_genres = recommended_movies.merge(movies_df[genre_columns + ['movieId']], on='movieId')\n",
    "\n",
    "    for _, recommended_movie in recommended_with_genres.iterrows():\n",
    "        # Берем жанровый профиль рекомендованного фильма\n",
    "        recommended_genre_profile = recommended_movie[genre_columns].values\n",
    "\n",
    "        # Ищем схожие фильмы среди высоко оцененных\n",
    "        user_high_ratings['similarity'] = user_high_ratings[genre_columns].apply(\n",
    "            lambda row: np.dot(row.values, recommended_genre_profile), axis=1\n",
    "        )\n",
    "        similar_movies = user_high_ratings[user_high_ratings['similarity'] > 0]\n",
    "\n",
    "        if not similar_movies.empty:\n",
    "            highest_rated_movie = similar_movies.iloc[0]\n",
    "            explanation = f\"Потому что вы посмотрели и оценили фильм '{highest_rated_movie['title']}' на {highest_rated_movie['rating']} баллов.\"\n",
    "            explanations.append((recommended_movie['title'], explanation))\n",
    "\n",
    "    return explanations\n"
   ]
  },
  {
   "cell_type": "code",
   "execution_count": 212,
   "metadata": {},
   "outputs": [
    {
     "name": "stdout",
     "output_type": "stream",
     "text": [
      "Рекомендация фильма 'Cinderella ': Потому что вы посмотрели и оценили фильм 'Pulp Fiction ' на 5.0 баллов.\n",
      "Рекомендация фильма 'Helix ': Потому что вы посмотрели и оценили фильм 'Saragossa Manuscript, The ' на 5.0 баллов.\n"
     ]
    }
   ],
   "source": [
    "explanations = explain_recommendations(user_id, recommended_movies, ratings_df, movies_df)\n",
    "\n",
    "for title, explanation in explanations:\n",
    "    print(f\"Рекомендация фильма '{title}': {explanation}\")\n"
   ]
  },
  {
   "cell_type": "code",
   "execution_count": null,
   "metadata": {},
   "outputs": [],
   "source": []
  }
 ],
 "metadata": {
  "kernelspec": {
   "display_name": "Python 3",
   "language": "python",
   "name": "python3"
  },
  "language_info": {
   "codemirror_mode": {
    "name": "ipython",
    "version": 3
   },
   "file_extension": ".py",
   "mimetype": "text/x-python",
   "name": "python",
   "nbconvert_exporter": "python",
   "pygments_lexer": "ipython3",
   "version": "3.10.0"
  }
 },
 "nbformat": 4,
 "nbformat_minor": 2
}
